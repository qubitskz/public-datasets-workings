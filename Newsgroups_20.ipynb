{
  "nbformat": 4,
  "nbformat_minor": 0,
  "metadata": {
    "kernelspec": {
      "display_name": "Python [default]",
      "language": "python",
      "name": "python2"
    },
    "language_info": {
      "codemirror_mode": {
        "name": "ipython",
        "version": 2
      },
      "file_extension": ".py",
      "mimetype": "text/x-python",
      "name": "python",
      "nbconvert_exporter": "python",
      "pygments_lexer": "ipython2",
      "version": "2.7.15"
    },
    "colab": {
      "name": "Newsgroups 20.ipynb",
      "version": "0.3.2",
      "provenance": [],
      "include_colab_link": true
    }
  },
  "cells": [
    {
      "cell_type": "markdown",
      "metadata": {
        "id": "view-in-github",
        "colab_type": "text"
      },
      "source": [
        "<a href=\"https://colab.research.google.com/github/qubitskz/public-datasets-workings/blob/master/Newsgroups_20.ipynb\" target=\"_parent\"><img src=\"https://colab.research.google.com/assets/colab-badge.svg\" alt=\"Open In Colab\"/></a>"
      ]
    },
    {
      "cell_type": "code",
      "metadata": {
        "id": "QCpnUHUM9Ncq",
        "colab_type": "code",
        "outputId": "9a519f95-6f43-4428-be86-fc93db019d99",
        "colab": {}
      },
      "source": [
        "import numpy as np\n",
        "from sklearn.datasets import fetch_20newsgroups\n",
        "\n",
        "news_train = fetch_20newsgroups(subset='train')\n",
        "news_test = fetch_20newsgroups(subset='test')\n"
      ],
      "execution_count": 0,
      "outputs": [
        {
          "output_type": "stream",
          "text": [
            "Downloading 20news dataset. This may take a few minutes.\n",
            "Downloading dataset from https://ndownloader.figshare.com/files/5975967 (14 MB)\n"
          ],
          "name": "stderr"
        }
      ]
    },
    {
      "cell_type": "code",
      "metadata": {
        "id": "xDBFvnzj9Nc5",
        "colab_type": "code",
        "outputId": "536029a1-3c11-47dc-9c47-8ace453876df",
        "colab": {}
      },
      "source": [
        "from sklearn.feature_extraction.text import CountVectorizer\n",
        "corpus = [\n",
        "    'This is the first document.',\n",
        "    'This document is the second document.',\n",
        "    'And this is the third one.',\n",
        "    'Is this the first document?',\n",
        "    'Was this documented in the beginning?',\n",
        "    'I began documenting this article',\n",
        "    'I fisrt wrote singal dokument'\n",
        "]\n",
        "\n",
        "vectorizer = CountVectorizer()\n",
        "vectorizer.fit(corpus)\n",
        "\n",
        "print vectorizer.get_feature_names()\n",
        "print 'Number of words in the vocabulary: ', len(vectorizer.get_feature_names())\n",
        "\n",
        "test_corpus = [\n",
        "    'Matrimony.com is doing a good job for the society',\n",
        "    'Third document is not the second document if the first document is not the second one'\n",
        "]\n",
        "\n",
        "X_train = vectorizer.transform(test_corpus)\n",
        "\n",
        "#print X_train\n",
        "print X_train.toarray() #Note, the unknown words are ignored!"
      ],
      "execution_count": 0,
      "outputs": [
        {
          "output_type": "stream",
          "text": [
            "[u'and', u'article', u'began', u'beginning', u'document', u'documented', u'documenting', u'dokument', u'first', u'fisrt', u'in', u'is', u'one', u'second', u'singal', u'the', u'third', u'this', u'was', u'wrote']\n",
            "Number of words in the vocabulary:  20\n",
            "[[0 0 0 0 0 0 0 0 0 0 0 1 0 0 0 1 0 0 0 0]\n",
            " [0 0 0 0 3 0 0 0 1 0 0 2 1 2 0 3 1 0 0 0]]\n"
          ],
          "name": "stdout"
        }
      ]
    },
    {
      "cell_type": "code",
      "metadata": {
        "id": "ZvpktmLr9NdC",
        "colab_type": "code",
        "outputId": "5e9ff13a-543c-4b90-cb5f-6f2eccb0f9cb",
        "colab": {}
      },
      "source": [
        "import re\n",
        "\n",
        "sent = 'This is the first document. He said, \"what happend to my profile????\"'\n",
        "pattern=r'[\\W?,\".\\']+'\n",
        "print re.split(pattern,sent) #Tokenizer. \n"
      ],
      "execution_count": 0,
      "outputs": [
        {
          "output_type": "stream",
          "text": [
            "['This', 'is', 'the', 'first', 'document', 'He', 'said', 'what', 'happend', 'to', 'my', 'profile', '']\n"
          ],
          "name": "stdout"
        }
      ]
    },
    {
      "cell_type": "code",
      "metadata": {
        "id": "7ndZZmvo9NdL",
        "colab_type": "code",
        "outputId": "6c77d962-e934-4d4c-db01-86d315d682bd",
        "colab": {}
      },
      "source": [
        "corpus = [\n",
        "    'This is the first document.',\n",
        "    'This document is the second document.',\n",
        "    'And this is the third one.',\n",
        "    'Is this the first document?',\n",
        "]\n",
        "\n",
        "vocab = set()\n",
        "for sent in corpus:\n",
        "    tokens = re.split(pattern,sent)# Sentence to tokens\n",
        "    tokens_lower = [w.lower() for w in tokens] #List comprehension\n",
        "    tokens_lower_1 = [w.lower() for w in tokens if w.strip() != ''] #List comprehension\n",
        "    vocab.update(tokens_lower_1)\n",
        "\n",
        "vocab = sorted(list(vocab))\n",
        "print vocab, len(vocab)\n",
        "\n",
        "#Make a vector given the vocab\n",
        "test_corpus = [\n",
        "    'Matrimony.com is doing a good job for the society',\n",
        "    'Third document is not the second document if the first document is not the second one'\n",
        "]\n",
        "\n",
        "all_vectors = []\n",
        "for new_sent in test_corpus:\n",
        "    v = [0]*len(vocab) #Code for creating a list of size len(vocab), with 0 as its elements\n",
        "    tokens = [w.lower() for w in re.split(pattern,new_sent) if w.strip() != ''] #List comprehension\n",
        "    for t in tokens:\n",
        "        try:\n",
        "            idx = vocab.index(t) #Search for t in the list vocab, and return its index\n",
        "            v[idx] += 1\n",
        "        except ValueError:\n",
        "            pass #Do nothing statement in python\n",
        "    all_vectors.append(v)\n",
        "\n",
        "print all_vectors \n",
        "\n",
        "#18377366611 -> <ID>, \"Ramanan\" -> PERSON"
      ],
      "execution_count": 0,
      "outputs": [
        {
          "output_type": "stream",
          "text": [
            "['and', 'document', 'first', 'is', 'one', 'second', 'the', 'third', 'this'] 9\n",
            "[[0, 0, 0, 1, 0, 0, 1, 0, 0], [0, 3, 1, 2, 1, 2, 3, 1, 0]]\n"
          ],
          "name": "stdout"
        }
      ]
    },
    {
      "cell_type": "code",
      "metadata": {
        "id": "eZWdmQ2X9NdV",
        "colab_type": "code",
        "outputId": "632e487c-c407-4662-8b71-5ef1667613ee",
        "colab": {}
      },
      "source": [
        "train_data = news_train.data\n",
        "test_data = news_test.data\n",
        "\n",
        "print news_train.keys()\n",
        "print train_data[0]\n",
        "print news_train.target_names[news_train.target[0]]\n"
      ],
      "execution_count": 0,
      "outputs": [
        {
          "output_type": "stream",
          "text": [
            "['description', 'DESCR', 'filenames', 'target_names', 'data', 'target']\n",
            "From: lerxst@wam.umd.edu (where's my thing)\n",
            "Subject: WHAT car is this!?\n",
            "Nntp-Posting-Host: rac3.wam.umd.edu\n",
            "Organization: University of Maryland, College Park\n",
            "Lines: 15\n",
            "\n",
            " I was wondering if anyone out there could enlighten me on this car I saw\n",
            "the other day. It was a 2-door sports car, looked to be from the late 60s/\n",
            "early 70s. It was called a Bricklin. The doors were really small. In addition,\n",
            "the front bumper was separate from the rest of the body. This is \n",
            "all I know. If anyone can tellme a model name, engine specs, years\n",
            "of production, where this car is made, history, or whatever info you\n",
            "have on this funky looking car, please e-mail.\n",
            "\n",
            "Thanks,\n",
            "- IL\n",
            "   ---- brought to you by your neighborhood Lerxst ----\n",
            "\n",
            "\n",
            "\n",
            "\n",
            "\n",
            "rec.autos\n"
          ],
          "name": "stdout"
        }
      ]
    },
    {
      "cell_type": "code",
      "metadata": {
        "id": "L5j-BY0U9Ndf",
        "colab_type": "code",
        "outputId": "a74f33e6-aacb-4c36-eaed-2ca4be351b30",
        "colab": {}
      },
      "source": [
        "#Data wrangling experiments\n",
        "\n",
        "X = np.random.randint(1,100,(20,5))\n",
        "y = np.random.randint(0,3,X.shape[0])\n",
        "print 'Data',X\n",
        "print 'Labels',y"
      ],
      "execution_count": 0,
      "outputs": [
        {
          "output_type": "stream",
          "text": [
            "Data [[61 74 21 44 66]\n",
            " [ 8 21 93 78 30]\n",
            " [29 19 84 50 15]\n",
            " [96 52 51 77 62]\n",
            " [84 49 74 64 94]\n",
            " [71 30 24 10 36]\n",
            " [73 50 35 72 25]\n",
            " [ 5 26 96 25 31]\n",
            " [52 73 76 23 49]\n",
            " [60 60 65 80 58]\n",
            " [48  9 77 23 69]\n",
            " [12 91 54 62  2]\n",
            " [24 58 17  1 82]\n",
            " [41 45 95 55 78]\n",
            " [77 91 70 71 97]\n",
            " [ 8 46 19 13 65]\n",
            " [ 9 77 63 67 25]\n",
            " [35 54 19 34 53]\n",
            " [71 60 14 72 83]\n",
            " [27 25 14 81 30]]\n",
            "Labels [2 1 0 0 2 1 2 0 1 2 2 1 0 0 0 1 0 2 2 2]\n"
          ],
          "name": "stdout"
        }
      ]
    },
    {
      "cell_type": "code",
      "metadata": {
        "id": "VwvmJbx39Ndq",
        "colab_type": "code",
        "outputId": "da60f6b8-bba8-4c6d-ee33-c99c84f33791",
        "colab": {}
      },
      "source": [
        "#Key Idea: Transform the situation into a toy scenario. Experiment\n",
        "#and then apply to the bigger set\n",
        "\n",
        "#Select only examples that have class labels 0 and 2\n",
        "select_idx_list = np.nonzero((y==0) | (y==2))\n",
        "\n",
        "X_select = X[select_idx_list,:]\n",
        "y_select = y[select_idx_list]\n",
        "\n",
        "print X_select\n",
        "print\n",
        "print y_select"
      ],
      "execution_count": 0,
      "outputs": [
        {
          "output_type": "stream",
          "text": [
            "[[[61 74 21 44 66]\n",
            "  [29 19 84 50 15]\n",
            "  [96 52 51 77 62]\n",
            "  [84 49 74 64 94]\n",
            "  [73 50 35 72 25]\n",
            "  [ 5 26 96 25 31]\n",
            "  [60 60 65 80 58]\n",
            "  [48  9 77 23 69]\n",
            "  [24 58 17  1 82]\n",
            "  [41 45 95 55 78]\n",
            "  [77 91 70 71 97]\n",
            "  [ 9 77 63 67 25]\n",
            "  [35 54 19 34 53]\n",
            "  [71 60 14 72 83]\n",
            "  [27 25 14 81 30]]]\n",
            "\n",
            "[2 0 0 2 2 0 2 2 0 0 0 0 2 2 2]\n"
          ],
          "name": "stdout"
        }
      ]
    },
    {
      "cell_type": "code",
      "metadata": {
        "id": "wBmrqNxu9Nd1",
        "colab_type": "code",
        "outputId": "53edb6b0-43a6-4c45-b73c-aae5aba941fe",
        "colab": {}
      },
      "source": [
        "targets = news_train.target_names\n",
        "new_target_names = ['alt','comp','misc','rec','sci','soc','talk']\n",
        "relabel = [0,1,1,1,1,1,2,3,3,3,3,4,4,4,4,5,6,6,6,6]\n",
        "print len(targets), np.bincount(relabel).sum()\n",
        "print targets\n",
        "\n",
        "train_labels = news_train.target.copy()\n",
        "test_labels = news_test.target.copy()\n",
        "for orig_label,label in enumerate(relabel):\n",
        "    selection = np.nonzero(news_train.target == orig_label)\n",
        "    train_labels[selection] = label\n",
        "    \n",
        "    selection = np.nonzero(news_test.target == orig_label)\n",
        "    test_labels[selection] = label\n",
        "\n",
        "    \n",
        "print len(train_labels), len(news_train.target)\n",
        "print np.unique(train_labels), np.unique(news_train.target)\n",
        "\n",
        "print len(test_labels), len(news_test.target)\n",
        "print np.unique(test_labels), np.unique(news_test.target)"
      ],
      "execution_count": 0,
      "outputs": [
        {
          "output_type": "stream",
          "text": [
            "20 20\n",
            "['alt.atheism', 'comp.graphics', 'comp.os.ms-windows.misc', 'comp.sys.ibm.pc.hardware', 'comp.sys.mac.hardware', 'comp.windows.x', 'misc.forsale', 'rec.autos', 'rec.motorcycles', 'rec.sport.baseball', 'rec.sport.hockey', 'sci.crypt', 'sci.electronics', 'sci.med', 'sci.space', 'soc.religion.christian', 'talk.politics.guns', 'talk.politics.mideast', 'talk.politics.misc', 'talk.religion.misc']\n",
            "11314 11314\n",
            "[0 1 2 3 4 5 6] [ 0  1  2  3  4  5  6  7  8  9 10 11 12 13 14 15 16 17 18 19]\n",
            "7532 7532\n",
            "[0 1 2 3 4 5 6] [ 0  1  2  3  4  5  6  7  8  9 10 11 12 13 14 15 16 17 18 19]\n"
          ],
          "name": "stdout"
        }
      ]
    },
    {
      "cell_type": "code",
      "metadata": {
        "scrolled": true,
        "id": "jJK0vMat9NeA",
        "colab_type": "code",
        "outputId": "5f0776a3-2db0-41f0-b154-84bf81c0a0a5",
        "colab": {}
      },
      "source": [
        "vectorizer = CountVectorizer(max_features = 100000)#Limit vocabulary/features to 50000\n",
        "vectorizer.fit(train_data)"
      ],
      "execution_count": 0,
      "outputs": [
        {
          "output_type": "execute_result",
          "data": {
            "text/plain": [
              "CountVectorizer(analyzer=u'word', binary=False, decode_error=u'strict',\n",
              "        dtype=<type 'numpy.int64'>, encoding=u'utf-8', input=u'content',\n",
              "        lowercase=True, max_df=1.0, max_features=100000, min_df=1,\n",
              "        ngram_range=(1, 1), preprocessor=None, stop_words=None,\n",
              "        strip_accents=None, token_pattern=u'(?u)\\\\b\\\\w\\\\w+\\\\b',\n",
              "        tokenizer=None, vocabulary=None)"
            ]
          },
          "metadata": {
            "tags": []
          },
          "execution_count": 76
        }
      ]
    },
    {
      "cell_type": "code",
      "metadata": {
        "id": "fl2Eh-Lw9NeJ",
        "colab_type": "code",
        "colab": {}
      },
      "source": [
        "X_train = vectorizer.transform(train_data)\n",
        "y_train = train_labels\n",
        "\n",
        "X_test = vectorizer.transform(test_data)\n",
        "y_test = test_labels\n"
      ],
      "execution_count": 0,
      "outputs": []
    },
    {
      "cell_type": "code",
      "metadata": {
        "id": "9-1N-A9G9NeR",
        "colab_type": "code",
        "outputId": "9e7a5fb8-6a98-4275-82d9-e8d563d59a84",
        "colab": {}
      },
      "source": [
        "print 'Train data shape: ', X_train.shape\n",
        "print 'Test data shape: ', X_test.shape"
      ],
      "execution_count": 0,
      "outputs": [
        {
          "output_type": "stream",
          "text": [
            "Train data shape:  (11314, 50000)\n",
            "Test data shape:  (7532, 50000)\n"
          ],
          "name": "stdout"
        }
      ]
    },
    {
      "cell_type": "code",
      "metadata": {
        "id": "53YhYanB9Nea",
        "colab_type": "code",
        "outputId": "9be9132f-02de-4e10-a059-3cf79b095de7",
        "colab": {}
      },
      "source": [
        "from sklearn.linear_model import LogisticRegression\n",
        "\n",
        "model = LogisticRegression(multi_class = 'multinomial', solver='lbfgs',verbose=2, C=0.1,max_iter = 500) #Multiclass classification\n",
        "\n",
        "\n",
        "model.fit(X_train,y_train)"
      ],
      "execution_count": 0,
      "outputs": [
        {
          "output_type": "stream",
          "text": [
            "[Parallel(n_jobs=1)]: Done   1 out of   1 | elapsed:   38.1s remaining:    0.0s\n",
            "[Parallel(n_jobs=1)]: Done   1 out of   1 | elapsed:   38.1s finished\n"
          ],
          "name": "stderr"
        },
        {
          "output_type": "execute_result",
          "data": {
            "text/plain": [
              "LogisticRegression(C=0.1, class_weight=None, dual=False, fit_intercept=True,\n",
              "          intercept_scaling=1, max_iter=500, multi_class='multinomial',\n",
              "          n_jobs=1, penalty='l2', random_state=None, solver='lbfgs',\n",
              "          tol=0.0001, verbose=2, warm_start=False)"
            ]
          },
          "metadata": {
            "tags": []
          },
          "execution_count": 63
        }
      ]
    },
    {
      "cell_type": "code",
      "metadata": {
        "id": "fkI2jd5i9Nej",
        "colab_type": "code",
        "outputId": "24e0d7a6-285b-4c6f-d07a-b688660980a8",
        "colab": {}
      },
      "source": [
        "print \"Training Accuracy: \", model.score(X_train,y_train)\n",
        "print \"Testing Accuracy: \", model.score(X_test,y_test)"
      ],
      "execution_count": 0,
      "outputs": [
        {
          "output_type": "stream",
          "text": [
            "Training Accuracy:  0.9986742089446703\n",
            "Testing Accuracy:  0.8720127456186936\n"
          ],
          "name": "stdout"
        }
      ]
    },
    {
      "cell_type": "code",
      "metadata": {
        "id": "sjtJEnTw9New",
        "colab_type": "code",
        "outputId": "f5f35db2-acc5-407f-cf88-667844b9356e",
        "colab": {}
      },
      "source": [
        "from sklearn.ensemble import RandomForestClassifier\n",
        "\n",
        "rf = RandomForestClassifier(n_estimators=100,min_samples_leaf = 5, n_jobs=-1)\n",
        "rf.fit(X_train,y_train)"
      ],
      "execution_count": 0,
      "outputs": [
        {
          "output_type": "execute_result",
          "data": {
            "text/plain": [
              "RandomForestClassifier(bootstrap=True, class_weight=None, criterion='gini',\n",
              "            max_depth=None, max_features='auto', max_leaf_nodes=None,\n",
              "            min_impurity_decrease=0.0, min_impurity_split=None,\n",
              "            min_samples_leaf=5, min_samples_split=2,\n",
              "            min_weight_fraction_leaf=0.0, n_estimators=100, n_jobs=-1,\n",
              "            oob_score=False, random_state=None, verbose=0,\n",
              "            warm_start=False)"
            ]
          },
          "metadata": {
            "tags": []
          },
          "execution_count": 78
        }
      ]
    },
    {
      "cell_type": "code",
      "metadata": {
        "id": "x_GlPQJj9Ne4",
        "colab_type": "code",
        "outputId": "3bf880a2-f196-4d3c-c384-abe579ab8e2b",
        "colab": {}
      },
      "source": [
        "print \"Training Accuracy: \", rf.score(X_train,y_train)\n",
        "print \"Testing Accuracy: \", rf.score(X_test,y_test)"
      ],
      "execution_count": 0,
      "outputs": [
        {
          "output_type": "stream",
          "text": [
            "Training Accuracy:  0.8462082375817571\n",
            "Testing Accuracy:  0.7449548592671269\n"
          ],
          "name": "stdout"
        }
      ]
    },
    {
      "cell_type": "code",
      "metadata": {
        "id": "UQ2gnxxK9NfG",
        "colab_type": "code",
        "colab": {}
      },
      "source": [
        "#Error Analysis\n",
        "from sklearn.metrics import confusion_matrix\n",
        "\n",
        "y_test_pred = rf.predict(X_test)\n",
        "cm = confusion_matrix(y_test,y_test_pred)"
      ],
      "execution_count": 0,
      "outputs": []
    },
    {
      "cell_type": "code",
      "metadata": {
        "scrolled": true,
        "id": "MOBzRI249NfN",
        "colab_type": "code",
        "outputId": "554d2ab1-20c8-405b-a166-1400cff54e59",
        "colab": {}
      },
      "source": [
        "import seaborn as sn\n",
        "import pandas as pd\n",
        "import matplotlib.pyplot as plt\n",
        "\n",
        "df_cm = pd.DataFrame(cm, index = new_target_names,\n",
        "                  columns = new_target_names)\n",
        "plt.figure(figsize = (10,7))\n",
        "sn.heatmap(df_cm, annot=True)"
      ],
      "execution_count": 0,
      "outputs": [
        {
          "output_type": "execute_result",
          "data": {
            "text/plain": [
              "<matplotlib.axes._subplots.AxesSubplot at 0x1a1d762490>"
            ]
          },
          "metadata": {
            "tags": []
          },
          "execution_count": 87
        },
        {
          "output_type": "display_data",
          "data": {
            "image/png": "[encoded data removed]",
            "text/plain": [
              "<Figure size 720x504 with 2 Axes>"
            ]
          },
          "metadata": {
            "tags": []
          }
        }
      ]
    },
    {
      "cell_type": "code",
      "metadata": {
        "id": "2kjRx5YS9NfU",
        "colab_type": "code",
        "outputId": "97f77915-22a5-4d6c-f5b1-74840033e329",
        "colab": {}
      },
      "source": [
        "#Find examples that truely rec (3) but labelled as comp (1)\n",
        "\n",
        "examples = np.nonzero((y_test == 3)  & (y_test_pred == 1))\n",
        "print \"Number of misclassification\", examples[0].size\n",
        "print\n",
        "print\n",
        "\n",
        "indices = np.random.choice(examples[0],10)\n",
        "\n",
        "for idx in indices:\n",
        "    print test_data[idx]\n",
        "    print\n",
        "    print '-*-'*10\n",
        "    print\n",
        "\n"
      ],
      "execution_count": 0,
      "outputs": [
        {
          "output_type": "stream",
          "text": [
            "Number of misclassification 170\n",
            "\n",
            "\n",
            "From: lws@eembox.ncku.edu.tw (WenHsiang Lin)\n",
            "Subject: Stats question\n",
            "Organization: National Cheng Kung University\n",
            "Lines: 5\n",
            "\n",
            "\n",
            "\tI am just wondering whether the official MLB stats includes \n",
            "Intentional Walks in the BB category or not?\n",
            "\n",
            "WenHsiang Lin\n",
            "\n",
            "\n",
            "-*--*--*--*--*--*--*--*--*--*-\n",
            "\n",
            "From: bd@fluent@dartmouth.EDU (Brice Dowaliby)\n",
            "Subject: Re: Good Reasons to Wave at each other\n",
            "In-Reply-To: mbeaving@bnr.ca's message of Tue, 20 Apr 1993 18:45:30 GMT\n",
            "Reply-To: bd%fluent@dartmouth.EDU\n",
            "Organization: Fluent Inc., Lebanon NH\n",
            "Distribution: na\n",
            "Lines: 7\n",
            "\n",
            "mbeaving@bnr.ca (Michael Beavington) writes:\n",
            "\n",
            ">The down side is that when I'm in my cage, I have on numerous occasions\n",
            ">slammed my hand into the rolled up window in an effort to wave at\n",
            ">a passing biker.  Ow.\n",
            "\n",
            "Shouldn't this be in the DWI thread?\n",
            "\n",
            "\n",
            "-*--*--*--*--*--*--*--*--*--*-\n",
            "\n",
            "From: newman@cps.msu.edu (Timothy S Newman)\n",
            "Subject: Domestic Content of US/Japan Joint Ventures\n",
            "Organization: Department of Computer Science, Michigan State University\n",
            "Lines: 15\n",
            "Distribution: usa\n",
            "NNTP-Posting-Host: howell.cps.msu.edu\n",
            "Originator: newman@howell.cps.msu.edu\n",
            "\n",
            "\n",
            "Does anyone know what the domestic content is of any of these:\n",
            "Geo Prizm, Eagle Talon, Ford Probe\n",
            "\n",
            "?\n",
            "\n",
            "All are made in the US, but I have been told they contain mostly\n",
            "foreign parts.  Please follow up directly to me, I'll post the\n",
            "findings to the net if there is interest.\n",
            "\n",
            "Thanks!\n",
            "Tim Newman\n",
            "\n",
            "newman@cps.msu.edu\n",
            "\n",
            "\n",
            "\n",
            "-*--*--*--*--*--*--*--*--*--*-\n",
            "\n",
            "From: stwombly@cs.ulowell.edu (Steve Twombly)\n",
            "Subject: Re: Fenway\n",
            "Organization: UMass-Lowell Computer Science\n",
            "Lines: 7\n",
            "\n",
            ">Hi- Does anybody know the # for ticket info for Fenway?\n",
            ">\n",
            "Less Than 40 People (617) 267-1700\n",
            "40 or more (617) 262-1915\n",
            "\n",
            "Steve\n",
            "\n",
            "\n",
            "\n",
            "-*--*--*--*--*--*--*--*--*--*-\n",
            "\n",
            "From: sturges@oasys.dt.navy.mil (Richard Sturges)\n",
            "Subject: Re: Mail order response time\n",
            "Reply-To: sturges@oasys.dt.navy.mil (Richard Sturges)\n",
            "Organization: Carderock Division, NSWC, Bethesda, MD\n",
            "Lines: 11\n",
            "\n",
            "I have ordered many times from Competition accesories and ussually\n",
            "get 2-3 day delivery.  Once they had to backorder something, but they\n",
            "sent me a card to say it would be two weeks.  Came in 10 days or so.\n",
            "\n",
            "Always be satisfied, with CA and in life.\n",
            "\n",
            "\t<================================================> \n",
            "       /        Rich Sturges           (h) 703-536-4443   \\\n",
            "      /    NSWC - Carderock Division   (w) 301-227-1670    \\\n",
            "     /  \"I speak for no one else, and listen to the same.\"  \\\n",
            "    <========================================================>\n",
            "\n",
            "\n",
            "-*--*--*--*--*--*--*--*--*--*-\n",
            "\n",
            "From: newman@cps.msu.edu (Timothy S Newman)\n",
            "Subject: Domestic Content of US/Japan Joint Ventures\n",
            "Organization: Department of Computer Science, Michigan State University\n",
            "Lines: 15\n",
            "Distribution: usa\n",
            "NNTP-Posting-Host: howell.cps.msu.edu\n",
            "Originator: newman@howell.cps.msu.edu\n",
            "\n",
            "\n",
            "Does anyone know what the domestic content is of any of these:\n",
            "Geo Prizm, Eagle Talon, Ford Probe\n",
            "\n",
            "?\n",
            "\n",
            "All are made in the US, but I have been told they contain mostly\n",
            "foreign parts.  Please follow up directly to me, I'll post the\n",
            "findings to the net if there is interest.\n",
            "\n",
            "Thanks!\n",
            "Tim Newman\n",
            "\n",
            "newman@cps.msu.edu\n",
            "\n",
            "\n",
            "\n",
            "-*--*--*--*--*--*--*--*--*--*-\n",
            "\n",
            "From: westes@netcom.com (Will Estes)\n",
            "Subject: States that charges sales tax after trade-in?\n",
            "Organization: Mail Group\n",
            "X-Newsreader: TIN [version 1.1 PL8]\n",
            "Lines: 11\n",
            "\n",
            "Which Western states have laws that charge sales tax on the difference between\n",
            "a new car's price and the trade-in's value?  I know California charges you on \n",
            "the full value of the new vehicle regardless of trade-in.\n",
            "\n",
            "If you are a California resident, is it legal to buy a car in a state other than\n",
            "California without also paying California sales tax?  How does California \n",
            "enforce any law that requires you to also pay California sales tax (on top of \n",
            "the out-of-state tax)?\n",
            "\n",
            "-- \n",
            "Will Estes\t\tInternet: westes@netcom.com\n",
            "\n",
            "\n",
            "-*--*--*--*--*--*--*--*--*--*-\n",
            "\n",
            "From: djanzen@kits.sfu.ca ('69 Dart)\n",
            "Subject: '88 Corolla 5spd.\n",
            "Organization: Simon Fraser University, Burnaby, B.C., Canada\n",
            "Lines: 12\n",
            "\n",
            "Hi there, maybe you can help me...\n",
            "\n",
            "I have an '88 Corolla with a 5 speed as the subject line says.  The gearbox\n",
            "seems excessivly clunky.  I used to have an '85 Corolla, and it was also \n",
            "somewhat clunky, but it had 30,000 more miles on it, and it wasn't nearly as\n",
            "bad as this car!  Is there fluid in the 5speed case?  If there is, could it\n",
            "just be low, or in need of a change?  As I recall, only the autos have fluid.\n",
            "Or am I just mistaken?  Please no flames for owning an import.  I also have\n",
            "an old Dodge, but it's not in very good shape these days...\n",
            "\n",
            "Thanks,\n",
            "Derek\n",
            "\n",
            "\n",
            "-*--*--*--*--*--*--*--*--*--*-\n",
            "\n",
            "From: ant@palm21.cray.com (Tony Jones)\n",
            "Subject: Yamaha Locks (was Cobra Lock)\n",
            "Lines: 14\n",
            "Nntp-Posting-Host: palm21\n",
            "Organization: Cray Research Inc, Eagan, MN\n",
            "X-Newsreader: TIN [version 1.1 PL6]\n",
            "\n",
            "Has anyone any experience with the (new?) Yamaha Cyclelok ?\n",
            "\n",
            "It looks like it uses the same hardened steel as a Kryptonite U lock,\n",
            "but unlike a U lock, it is hinged in 5 places and opens out to a large\n",
            "rectangle (longer length than any U lock I have seen, plus it folds down\n",
            "to real small), so you could lock the rear tire to a steel post for example.\n",
            "\n",
            "I was curious as to how well the jointed sections would stand up to attack ?\n",
            "\n",
            "tony\n",
            "--\n",
            "Tony Jones (ant@cray.com, ..!uunet!cray!ant)\n",
            "CMCS Codegeneration Group, Software Division\n",
            "Cray Research Inc, 655F Lone Oak Drive, Eagan, MN 55121\n",
            "\n",
            "\n",
            "-*--*--*--*--*--*--*--*--*--*-\n",
            "\n",
            "Subject: Tires comparison\n",
            "From: vpopesc@opus.uucp (Valentin Popescu)\n",
            "Distribution: world\n",
            "Organization: California State University, Lost Angels\n",
            "Nntp-Posting-Host: opus.calstatela.edu\n",
            "Lines: 28\n",
            "\n",
            "\n",
            "Eve'.\n",
            "\n",
            "I am looking to buy 4 new p195-50r15 tires.. (R or HR). I don't\n",
            "have much to spend, but I would like a tire that will LAST. Does\n",
            "anyone have any experience with the following brands?\n",
            "\n",
            "\tRiken\n",
            "\tFalken\t\n",
            "\tBFG\t\n",
            "\tGeneral\t\n",
            "\n",
            "There are others, but these I can find here for under $70.. Like\n",
            "I said, I am mostly interested in threadwear then speed, since I\n",
            "hardly get to drive them over 80 or 90 mph. Also, is it true that\n",
            "\"noone will give you warranty on such tires\", according to\n",
            "a tire dealer?\n",
            "\n",
            "Finally, do HR tires last longer than R tires (threadwear again),\n",
            "or is that strictly a speed factor?\n",
            "\n",
            "Thanks for any replies..\n",
            "\n",
            "-- \n",
            "            |         \"Whatever doesn't kill me makes me stronger.\"\n",
            "_________  -+-__      _________     \n",
            "\\_____  /   |/_ \\     \\  _____/           Internet: vpopesc@calstatela.edu\n",
            " \\_____ \\_____/  \\____/  ____/            Bitnet:   vpopesc@csla.BITNET\n",
            "\n",
            "\n",
            "-*--*--*--*--*--*--*--*--*--*-\n",
            "\n"
          ],
          "name": "stdout"
        }
      ]
    }
  ]
}